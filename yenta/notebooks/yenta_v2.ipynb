{
 "cells": [
  {
   "cell_type": "markdown",
   "metadata": {},
   "source": [
    "# Abstract \n",
    "Analyze yenta data made from tweets and my friends shared. This file mainly focused on using some statistical approarch. "
   ]
  },
  {
   "cell_type": "code",
   "execution_count": 2,
   "metadata": {},
   "outputs": [],
   "source": [
    "import numpy as np\n",
    "import pandas as pd \n",
    "import matplotlib.pyplot as plt \n",
    "import seaborn as sns \n",
    "plt.style.use('seaborn-darkgrid')"
   ]
  },
  {
   "cell_type": "code",
   "execution_count": 4,
   "metadata": {},
   "outputs": [
    {
     "data": {
      "text/html": [
       "<div>\n",
       "<style scoped>\n",
       "    .dataframe tbody tr th:only-of-type {\n",
       "        vertical-align: middle;\n",
       "    }\n",
       "\n",
       "    .dataframe tbody tr th {\n",
       "        vertical-align: top;\n",
       "    }\n",
       "\n",
       "    .dataframe thead th {\n",
       "        text-align: right;\n",
       "    }\n",
       "</style>\n",
       "<table border=\"1\" class=\"dataframe\">\n",
       "  <thead>\n",
       "    <tr style=\"text-align: right;\">\n",
       "      <th></th>\n",
       "      <th>gender</th>\n",
       "      <th>age</th>\n",
       "      <th>job</th>\n",
       "      <th>is_staff</th>\n",
       "      <th>cnt</th>\n",
       "      <th>male</th>\n",
       "      <th>female</th>\n",
       "      <th>under_21</th>\n",
       "      <th>22_25</th>\n",
       "      <th>26_30</th>\n",
       "      <th>...</th>\n",
       "      <th>top_2</th>\n",
       "      <th>top_3</th>\n",
       "      <th>top_4</th>\n",
       "      <th>top_5</th>\n",
       "      <th>top_1_cnt</th>\n",
       "      <th>top_2_cnt</th>\n",
       "      <th>top_3_cnt</th>\n",
       "      <th>top_4_cnt</th>\n",
       "      <th>top_5_cnt</th>\n",
       "      <th>length</th>\n",
       "    </tr>\n",
       "  </thead>\n",
       "  <tbody>\n",
       "    <tr>\n",
       "      <th>0</th>\n",
       "      <td>0</td>\n",
       "      <td>22</td>\n",
       "      <td>designer</td>\n",
       "      <td>1</td>\n",
       "      <td>266</td>\n",
       "      <td>239</td>\n",
       "      <td>27</td>\n",
       "      <td>9</td>\n",
       "      <td>62</td>\n",
       "      <td>69</td>\n",
       "      <td>...</td>\n",
       "      <td>sales</td>\n",
       "      <td>marketing</td>\n",
       "      <td>pm</td>\n",
       "      <td>strategist</td>\n",
       "      <td>104</td>\n",
       "      <td>94</td>\n",
       "      <td>87</td>\n",
       "      <td>77</td>\n",
       "      <td>73</td>\n",
       "      <td>11</td>\n",
       "    </tr>\n",
       "    <tr>\n",
       "      <th>1</th>\n",
       "      <td>0</td>\n",
       "      <td>33</td>\n",
       "      <td>marketer</td>\n",
       "      <td>0</td>\n",
       "      <td>302</td>\n",
       "      <td>274</td>\n",
       "      <td>28</td>\n",
       "      <td>3</td>\n",
       "      <td>20</td>\n",
       "      <td>82</td>\n",
       "      <td>...</td>\n",
       "      <td>ceo</td>\n",
       "      <td>strategist</td>\n",
       "      <td>sales</td>\n",
       "      <td>pm</td>\n",
       "      <td>132</td>\n",
       "      <td>123</td>\n",
       "      <td>98</td>\n",
       "      <td>96</td>\n",
       "      <td>93</td>\n",
       "      <td>12</td>\n",
       "    </tr>\n",
       "    <tr>\n",
       "      <th>2</th>\n",
       "      <td>0</td>\n",
       "      <td>24</td>\n",
       "      <td>engineer marketer</td>\n",
       "      <td>0</td>\n",
       "      <td>1414</td>\n",
       "      <td>1304</td>\n",
       "      <td>110</td>\n",
       "      <td>19</td>\n",
       "      <td>199</td>\n",
       "      <td>337</td>\n",
       "      <td>...</td>\n",
       "      <td>sales</td>\n",
       "      <td>marketing</td>\n",
       "      <td>strategist</td>\n",
       "      <td>pm</td>\n",
       "      <td>498</td>\n",
       "      <td>471</td>\n",
       "      <td>467</td>\n",
       "      <td>430</td>\n",
       "      <td>335</td>\n",
       "      <td>12</td>\n",
       "    </tr>\n",
       "    <tr>\n",
       "      <th>3</th>\n",
       "      <td>0</td>\n",
       "      <td>34</td>\n",
       "      <td>cto</td>\n",
       "      <td>1</td>\n",
       "      <td>3030</td>\n",
       "      <td>2608</td>\n",
       "      <td>422</td>\n",
       "      <td>43</td>\n",
       "      <td>410</td>\n",
       "      <td>703</td>\n",
       "      <td>...</td>\n",
       "      <td>ceo</td>\n",
       "      <td>sales</td>\n",
       "      <td>strategist</td>\n",
       "      <td>pm</td>\n",
       "      <td>973</td>\n",
       "      <td>924</td>\n",
       "      <td>898</td>\n",
       "      <td>767</td>\n",
       "      <td>736</td>\n",
       "      <td>12</td>\n",
       "    </tr>\n",
       "    <tr>\n",
       "      <th>4</th>\n",
       "      <td>0</td>\n",
       "      <td>39</td>\n",
       "      <td>back-office</td>\n",
       "      <td>0</td>\n",
       "      <td>575</td>\n",
       "      <td>532</td>\n",
       "      <td>43</td>\n",
       "      <td>1</td>\n",
       "      <td>45</td>\n",
       "      <td>154</td>\n",
       "      <td>...</td>\n",
       "      <td>marketing</td>\n",
       "      <td>strategist</td>\n",
       "      <td>sales</td>\n",
       "      <td>pm</td>\n",
       "      <td>255</td>\n",
       "      <td>241</td>\n",
       "      <td>198</td>\n",
       "      <td>195</td>\n",
       "      <td>178</td>\n",
       "      <td>12</td>\n",
       "    </tr>\n",
       "  </tbody>\n",
       "</table>\n",
       "<p>5 rows × 26 columns</p>\n",
       "</div>"
      ],
      "text/plain": [
       "   gender age                job  is_staff   cnt  male  female  under_21  \\\n",
       "0       0  22           designer         1   266   239      27         9   \n",
       "1       0  33           marketer         0   302   274      28         3   \n",
       "2       0  24  engineer marketer         0  1414  1304     110        19   \n",
       "3       0  34                cto         1  3030  2608     422        43   \n",
       "4       0  39        back-office         0   575   532      43         1   \n",
       "\n",
       "   22_25  26_30  ...        top_2       top_3       top_4       top_5  \\\n",
       "0     62     69  ...        sales   marketing          pm  strategist   \n",
       "1     20     82  ...          ceo  strategist       sales          pm   \n",
       "2    199    337  ...        sales   marketing  strategist          pm   \n",
       "3    410    703  ...          ceo       sales  strategist          pm   \n",
       "4     45    154  ...    marketing  strategist       sales          pm   \n",
       "\n",
       "   top_1_cnt top_2_cnt top_3_cnt top_4_cnt top_5_cnt length  \n",
       "0        104        94        87        77        73     11  \n",
       "1        132       123        98        96        93     12  \n",
       "2        498       471       467       430       335     12  \n",
       "3        973       924       898       767       736     12  \n",
       "4        255       241       198       195       178     12  \n",
       "\n",
       "[5 rows x 26 columns]"
      ]
     },
     "execution_count": 4,
     "metadata": {},
     "output_type": "execute_result"
    }
   ],
   "source": [
    "df = pd.read_csv('../yenta.csv')\n",
    "df.gender = df.gender.replace('male', 0)\n",
    "df.gender = df.gender.replace('female', 1)\n",
    "df.head()"
   ]
  },
  {
   "cell_type": "markdown",
   "metadata": {},
   "source": [
    "Previously, I found the relationship beween total count and components like genders and generations. Then, I use regression model to total count and gender factors to understand how much each genders effect to total count.\n",
    "\n",
    "To comprehend below codes, we should learn the least square method. This is the most basic regression tool to numeric data. Main concept is to minimize error.\n",
    "More precise explanation can accessible for you on [statsmodels official documentation](https://www.statsmodels.org/stable/regression.html)."
   ]
  },
  {
   "cell_type": "code",
   "execution_count": 6,
   "metadata": {},
   "outputs": [
    {
     "data": {
      "text/plain": [
       "<seaborn.axisgrid.PairGrid at 0x118a301d0>"
      ]
     },
     "execution_count": 6,
     "metadata": {},
     "output_type": "execute_result"
    },
    {
     "data": {
      "image/png": "[encoded data removed]",
      "text/plain": [
       "<Figure size 540x540 with 12 Axes>"
      ]
     },
     "metadata": {},
     "output_type": "display_data"
    }
   ],
   "source": [
    "import statsmodels.api as sm\n",
    "\n",
    "x = df[['male', 'female']]\n",
    "y = df['cnt']\n",
    "\n",
    "sns.pairplot(df[['cnt', 'male', 'female']])"
   ]
  },
  {
   "cell_type": "code",
   "execution_count": 35,
   "metadata": {},
   "outputs": [
    {
     "data": {
      "image/png": "[encoded data removed]",
      "text/plain": [
       "<Figure size 432x288 with 1 Axes>"
      ]
     },
     "metadata": {},
     "output_type": "display_data"
    }
   ],
   "source": [
    "plt.scatter(x.female, y)\n",
    "plt.show()"
   ]
  },
  {
   "cell_type": "markdown",
   "metadata": {},
   "source": [
    "Fit OLS model to this data."
   ]
  },
  {
   "cell_type": "code",
   "execution_count": 19,
   "metadata": {
    "scrolled": false
   },
   "outputs": [
    {
     "data": {
      "text/html": [
       "<table class=\"simpletable\">\n",
       "<caption>OLS Regression Results</caption>\n",
       "<tr>\n",
       "  <th>Dep. Variable:</th>           <td>cnt</td>       <th>  R-squared:         </th> <td>   0.999</td> \n",
       "</tr>\n",
       "<tr>\n",
       "  <th>Model:</th>                   <td>OLS</td>       <th>  Adj. R-squared:    </th> <td>   0.999</td> \n",
       "</tr>\n",
       "<tr>\n",
       "  <th>Method:</th>             <td>Least Squares</td>  <th>  F-statistic:       </th> <td>2.146e+04</td>\n",
       "</tr>\n",
       "<tr>\n",
       "  <th>Date:</th>             <td>Sat, 19 Jan 2019</td> <th>  Prob (F-statistic):</th> <td>8.64e-32</td> \n",
       "</tr>\n",
       "<tr>\n",
       "  <th>Time:</th>                 <td>17:03:29</td>     <th>  Log-Likelihood:    </th> <td> -104.39</td> \n",
       "</tr>\n",
       "<tr>\n",
       "  <th>No. Observations:</th>      <td>    21</td>      <th>  AIC:               </th> <td>   210.8</td> \n",
       "</tr>\n",
       "<tr>\n",
       "  <th>Df Residuals:</th>          <td>    20</td>      <th>  BIC:               </th> <td>   211.8</td> \n",
       "</tr>\n",
       "<tr>\n",
       "  <th>Df Model:</th>              <td>     1</td>      <th>                     </th>     <td> </td>    \n",
       "</tr>\n",
       "<tr>\n",
       "  <th>Covariance Type:</th>      <td>nonrobust</td>    <th>                     </th>     <td> </td>    \n",
       "</tr>\n",
       "</table>\n",
       "<table class=\"simpletable\">\n",
       "<tr>\n",
       "    <td></td>      <th>coef</th>     <th>std err</th>      <th>t</th>      <th>P>|t|</th>  <th>[0.025</th>    <th>0.975]</th>  \n",
       "</tr>\n",
       "<tr>\n",
       "  <th>male</th> <td>    1.1200</td> <td>    0.008</td> <td>  146.488</td> <td> 0.000</td> <td>    1.104</td> <td>    1.136</td>\n",
       "</tr>\n",
       "</table>\n",
       "<table class=\"simpletable\">\n",
       "<tr>\n",
       "  <th>Omnibus:</th>       <td>23.539</td> <th>  Durbin-Watson:     </th> <td>   2.265</td>\n",
       "</tr>\n",
       "<tr>\n",
       "  <th>Prob(Omnibus):</th> <td> 0.000</td> <th>  Jarque-Bera (JB):  </th> <td>  34.605</td>\n",
       "</tr>\n",
       "<tr>\n",
       "  <th>Skew:</th>          <td> 2.045</td> <th>  Prob(JB):          </th> <td>3.06e-08</td>\n",
       "</tr>\n",
       "<tr>\n",
       "  <th>Kurtosis:</th>      <td> 7.777</td> <th>  Cond. No.          </th> <td>    1.00</td>\n",
       "</tr>\n",
       "</table><br/><br/>Warnings:<br/>[1] Standard Errors assume that the covariance matrix of the errors is correctly specified."
      ],
      "text/plain": [
       "<class 'statsmodels.iolib.summary.Summary'>\n",
       "\"\"\"\n",
       "                            OLS Regression Results                            \n",
       "==============================================================================\n",
       "Dep. Variable:                    cnt   R-squared:                       0.999\n",
       "Model:                            OLS   Adj. R-squared:                  0.999\n",
       "Method:                 Least Squares   F-statistic:                 2.146e+04\n",
       "Date:                Sat, 19 Jan 2019   Prob (F-statistic):           8.64e-32\n",
       "Time:                        17:03:29   Log-Likelihood:                -104.39\n",
       "No. Observations:                  21   AIC:                             210.8\n",
       "Df Residuals:                      20   BIC:                             211.8\n",
       "Df Model:                           1                                         \n",
       "Covariance Type:            nonrobust                                         \n",
       "==============================================================================\n",
       "                 coef    std err          t      P>|t|      [0.025      0.975]\n",
       "------------------------------------------------------------------------------\n",
       "male           1.1200      0.008    146.488      0.000       1.104       1.136\n",
       "==============================================================================\n",
       "Omnibus:                       23.539   Durbin-Watson:                   2.265\n",
       "Prob(Omnibus):                  0.000   Jarque-Bera (JB):               34.605\n",
       "Skew:                           2.045   Prob(JB):                     3.06e-08\n",
       "Kurtosis:                       7.777   Cond. No.                         1.00\n",
       "==============================================================================\n",
       "\n",
       "Warnings:\n",
       "[1] Standard Errors assume that the covariance matrix of the errors is correctly specified.\n",
       "\"\"\""
      ]
     },
     "execution_count": 19,
     "metadata": {},
     "output_type": "execute_result"
    }
   ],
   "source": [
    "model = sm.OLS(y, x.male)\n",
    "result = model.fit()\n",
    "result.summary()"
   ]
  },
  {
   "cell_type": "code",
   "execution_count": 25,
   "metadata": {},
   "outputs": [
    {
     "data": {
      "image/png": "[encoded data removed]",
      "text/plain": [
       "<Figure size 432x288 with 1 Axes>"
      ]
     },
     "metadata": {},
     "output_type": "display_data"
    }
   ],
   "source": [
    "param = result.params['male']\n",
    "x_plot = np.linspace(0, x.male.max(), 100)\n",
    "plt.scatter(x.male, y)\n",
    "plt.plot(x_plot, param * x_plot, c='orange', label='prediction')\n",
    "plt.legend()\n",
    "plt.show()"
   ]
  },
  {
   "cell_type": "code",
   "execution_count": 26,
   "metadata": {},
   "outputs": [
    {
     "data": {
      "text/html": [
       "<table class=\"simpletable\">\n",
       "<caption>OLS Regression Results</caption>\n",
       "<tr>\n",
       "  <th>Dep. Variable:</th>           <td>cnt</td>       <th>  R-squared:         </th> <td>   0.940</td>\n",
       "</tr>\n",
       "<tr>\n",
       "  <th>Model:</th>                   <td>OLS</td>       <th>  Adj. R-squared:    </th> <td>   0.937</td>\n",
       "</tr>\n",
       "<tr>\n",
       "  <th>Method:</th>             <td>Least Squares</td>  <th>  F-statistic:       </th> <td>   312.1</td>\n",
       "</tr>\n",
       "<tr>\n",
       "  <th>Date:</th>             <td>Sat, 19 Jan 2019</td> <th>  Prob (F-statistic):</th> <td>1.14e-13</td>\n",
       "</tr>\n",
       "<tr>\n",
       "  <th>Time:</th>                 <td>17:10:10</td>     <th>  Log-Likelihood:    </th> <td> -148.17</td>\n",
       "</tr>\n",
       "<tr>\n",
       "  <th>No. Observations:</th>      <td>    21</td>      <th>  AIC:               </th> <td>   298.3</td>\n",
       "</tr>\n",
       "<tr>\n",
       "  <th>Df Residuals:</th>          <td>    20</td>      <th>  BIC:               </th> <td>   299.4</td>\n",
       "</tr>\n",
       "<tr>\n",
       "  <th>Df Model:</th>              <td>     1</td>      <th>                     </th>     <td> </td>   \n",
       "</tr>\n",
       "<tr>\n",
       "  <th>Covariance Type:</th>      <td>nonrobust</td>    <th>                     </th>     <td> </td>   \n",
       "</tr>\n",
       "</table>\n",
       "<table class=\"simpletable\">\n",
       "<tr>\n",
       "     <td></td>       <th>coef</th>     <th>std err</th>      <th>t</th>      <th>P>|t|</th>  <th>[0.025</th>    <th>0.975]</th>  \n",
       "</tr>\n",
       "<tr>\n",
       "  <th>female</th> <td>    8.7192</td> <td>    0.494</td> <td>   17.668</td> <td> 0.000</td> <td>    7.690</td> <td>    9.749</td>\n",
       "</tr>\n",
       "</table>\n",
       "<table class=\"simpletable\">\n",
       "<tr>\n",
       "  <th>Omnibus:</th>       <td>13.950</td> <th>  Durbin-Watson:     </th> <td>   1.943</td>\n",
       "</tr>\n",
       "<tr>\n",
       "  <th>Prob(Omnibus):</th> <td> 0.001</td> <th>  Jarque-Bera (JB):  </th> <td>  12.871</td>\n",
       "</tr>\n",
       "<tr>\n",
       "  <th>Skew:</th>          <td>-1.460</td> <th>  Prob(JB):          </th> <td> 0.00160</td>\n",
       "</tr>\n",
       "<tr>\n",
       "  <th>Kurtosis:</th>      <td> 5.488</td> <th>  Cond. No.          </th> <td>    1.00</td>\n",
       "</tr>\n",
       "</table><br/><br/>Warnings:<br/>[1] Standard Errors assume that the covariance matrix of the errors is correctly specified."
      ],
      "text/plain": [
       "<class 'statsmodels.iolib.summary.Summary'>\n",
       "\"\"\"\n",
       "                            OLS Regression Results                            \n",
       "==============================================================================\n",
       "Dep. Variable:                    cnt   R-squared:                       0.940\n",
       "Model:                            OLS   Adj. R-squared:                  0.937\n",
       "Method:                 Least Squares   F-statistic:                     312.1\n",
       "Date:                Sat, 19 Jan 2019   Prob (F-statistic):           1.14e-13\n",
       "Time:                        17:10:10   Log-Likelihood:                -148.17\n",
       "No. Observations:                  21   AIC:                             298.3\n",
       "Df Residuals:                      20   BIC:                             299.4\n",
       "Df Model:                           1                                         \n",
       "Covariance Type:            nonrobust                                         \n",
       "==============================================================================\n",
       "                 coef    std err          t      P>|t|      [0.025      0.975]\n",
       "------------------------------------------------------------------------------\n",
       "female         8.7192      0.494     17.668      0.000       7.690       9.749\n",
       "==============================================================================\n",
       "Omnibus:                       13.950   Durbin-Watson:                   1.943\n",
       "Prob(Omnibus):                  0.001   Jarque-Bera (JB):               12.871\n",
       "Skew:                          -1.460   Prob(JB):                      0.00160\n",
       "Kurtosis:                       5.488   Cond. No.                         1.00\n",
       "==============================================================================\n",
       "\n",
       "Warnings:\n",
       "[1] Standard Errors assume that the covariance matrix of the errors is correctly specified.\n",
       "\"\"\""
      ]
     },
     "execution_count": 26,
     "metadata": {},
     "output_type": "execute_result"
    }
   ],
   "source": [
    "model = sm.OLS(y, x.female)\n",
    "result = model.fit()\n",
    "result.summary()"
   ]
  },
  {
   "cell_type": "code",
   "execution_count": 28,
   "metadata": {},
   "outputs": [
    {
     "data": {
      "image/png": "[encoded data removed]",
      "text/plain": [
       "<Figure size 432x288 with 1 Axes>"
      ]
     },
     "metadata": {},
     "output_type": "display_data"
    }
   ],
   "source": [
    "param = result.params['female']\n",
    "x_plot = np.linspace(0, x.female.max(), 100)\n",
    "plt.scatter(x.female, y)\n",
    "plt.plot(x_plot, param * x_plot, c='orange', label='prediction')\n",
    "plt.legend()\n",
    "plt.show()"
   ]
  },
  {
   "cell_type": "code",
   "execution_count": 29,
   "metadata": {},
   "outputs": [
    {
     "data": {
      "text/html": [
       "<table class=\"simpletable\">\n",
       "<caption>OLS Regression Results</caption>\n",
       "<tr>\n",
       "  <th>Dep. Variable:</th>         <td>female</td>      <th>  R-squared:         </th> <td>   0.924</td>\n",
       "</tr>\n",
       "<tr>\n",
       "  <th>Model:</th>                   <td>OLS</td>       <th>  Adj. R-squared:    </th> <td>   0.921</td>\n",
       "</tr>\n",
       "<tr>\n",
       "  <th>Method:</th>             <td>Least Squares</td>  <th>  F-statistic:       </th> <td>   244.7</td>\n",
       "</tr>\n",
       "<tr>\n",
       "  <th>Date:</th>             <td>Sat, 19 Jan 2019</td> <th>  Prob (F-statistic):</th> <td>1.11e-12</td>\n",
       "</tr>\n",
       "<tr>\n",
       "  <th>Time:</th>                 <td>17:11:06</td>     <th>  Log-Likelihood:    </th> <td> -104.42</td>\n",
       "</tr>\n",
       "<tr>\n",
       "  <th>No. Observations:</th>      <td>    21</td>      <th>  AIC:               </th> <td>   210.8</td>\n",
       "</tr>\n",
       "<tr>\n",
       "  <th>Df Residuals:</th>          <td>    20</td>      <th>  BIC:               </th> <td>   211.9</td>\n",
       "</tr>\n",
       "<tr>\n",
       "  <th>Df Model:</th>              <td>     1</td>      <th>                     </th>     <td> </td>   \n",
       "</tr>\n",
       "<tr>\n",
       "  <th>Covariance Type:</th>      <td>nonrobust</td>    <th>                     </th>     <td> </td>   \n",
       "</tr>\n",
       "</table>\n",
       "<table class=\"simpletable\">\n",
       "<tr>\n",
       "    <td></td>      <th>coef</th>     <th>std err</th>      <th>t</th>      <th>P>|t|</th>  <th>[0.025</th>    <th>0.975]</th>  \n",
       "</tr>\n",
       "<tr>\n",
       "  <th>male</th> <td>    0.1198</td> <td>    0.008</td> <td>   15.644</td> <td> 0.000</td> <td>    0.104</td> <td>    0.136</td>\n",
       "</tr>\n",
       "</table>\n",
       "<table class=\"simpletable\">\n",
       "<tr>\n",
       "  <th>Omnibus:</th>       <td>23.806</td> <th>  Durbin-Watson:     </th> <td>   2.263</td>\n",
       "</tr>\n",
       "<tr>\n",
       "  <th>Prob(Omnibus):</th> <td> 0.000</td> <th>  Jarque-Bera (JB):  </th> <td>  35.390</td>\n",
       "</tr>\n",
       "<tr>\n",
       "  <th>Skew:</th>          <td> 2.063</td> <th>  Prob(JB):          </th> <td>2.07e-08</td>\n",
       "</tr>\n",
       "<tr>\n",
       "  <th>Kurtosis:</th>      <td> 7.840</td> <th>  Cond. No.          </th> <td>    1.00</td>\n",
       "</tr>\n",
       "</table><br/><br/>Warnings:<br/>[1] Standard Errors assume that the covariance matrix of the errors is correctly specified."
      ],
      "text/plain": [
       "<class 'statsmodels.iolib.summary.Summary'>\n",
       "\"\"\"\n",
       "                            OLS Regression Results                            \n",
       "==============================================================================\n",
       "Dep. Variable:                 female   R-squared:                       0.924\n",
       "Model:                            OLS   Adj. R-squared:                  0.921\n",
       "Method:                 Least Squares   F-statistic:                     244.7\n",
       "Date:                Sat, 19 Jan 2019   Prob (F-statistic):           1.11e-12\n",
       "Time:                        17:11:06   Log-Likelihood:                -104.42\n",
       "No. Observations:                  21   AIC:                             210.8\n",
       "Df Residuals:                      20   BIC:                             211.9\n",
       "Df Model:                           1                                         \n",
       "Covariance Type:            nonrobust                                         \n",
       "==============================================================================\n",
       "                 coef    std err          t      P>|t|      [0.025      0.975]\n",
       "------------------------------------------------------------------------------\n",
       "male           0.1198      0.008     15.644      0.000       0.104       0.136\n",
       "==============================================================================\n",
       "Omnibus:                       23.806   Durbin-Watson:                   2.263\n",
       "Prob(Omnibus):                  0.000   Jarque-Bera (JB):               35.390\n",
       "Skew:                           2.063   Prob(JB):                     2.07e-08\n",
       "Kurtosis:                       7.840   Cond. No.                         1.00\n",
       "==============================================================================\n",
       "\n",
       "Warnings:\n",
       "[1] Standard Errors assume that the covariance matrix of the errors is correctly specified.\n",
       "\"\"\""
      ]
     },
     "execution_count": 29,
     "metadata": {},
     "output_type": "execute_result"
    }
   ],
   "source": [
    "model = sm.OLS(x.female, x.male)\n",
    "result = model.fit()\n",
    "result.summary()"
   ]
  },
  {
   "cell_type": "code",
   "execution_count": 31,
   "metadata": {},
   "outputs": [
    {
     "data": {
      "image/png": "[encoded data removed]",
      "text/plain": [
       "<Figure size 432x288 with 1 Axes>"
      ]
     },
     "metadata": {},
     "output_type": "display_data"
    }
   ],
   "source": [
    "param = result.params['male']\n",
    "x_plot = np.linspace(0, x.male.max(), 100)\n",
    "plt.scatter(x.male, x.female)\n",
    "plt.plot(x_plot, param * x_plot, c='orange', label='prediction')\n",
    "plt.legend()\n",
    "plt.show()"
   ]
  },
  {
   "cell_type": "code",
   "execution_count": null,
   "metadata": {},
   "outputs": [],
   "source": []
  }
 ],
 "metadata": {
  "kernelspec": {
   "display_name": "kaggle",
   "language": "python",
   "name": "kaggle"
  },
  "language_info": {
   "codemirror_mode": {
    "name": "ipython",
    "version": 3
   },
   "file_extension": ".py",
   "mimetype": "text/x-python",
   "name": "python",
   "nbconvert_exporter": "python",
   "pygments_lexer": "ipython3",
   "version": "3.6.4"
  }
 },
 "nbformat": 4,
 "nbformat_minor": 2
}
